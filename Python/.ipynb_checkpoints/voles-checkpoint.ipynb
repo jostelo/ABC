{
 "cells": [
  {
   "cell_type": "markdown",
   "metadata": {},
   "source": [
    "# Application to the prey-predator model"
   ]
  },
  {
   "cell_type": "markdown",
   "metadata": {},
   "source": [
    "Explain shift of vole abundance through population of their predators (weasels). \n"
   ]
  },
  {
   "cell_type": "markdown",
   "metadata": {},
   "source": [
    "Predator-prey dnyamics:\n"
   ]
  },
  {
   "cell_type": "markdown",
   "metadata": {},
   "source": [
    "(1)$\\frac{dN}{t}=r(1-esin2\\pi t)N-\\frac{r}{K}N^2-\\frac{GN^2}{N^2+H^2}-\\frac{CNP}{N+D}+\\frac{N}{K}\\frac{dw}{dt}$ \n"
   ]
  },
  {
   "cell_type": "markdown",
   "metadata": {},
   "source": [
    "(2)$\\frac{dP}{dt}=s(1-esin2\\pi t)P-sQ\\frac{P^2}{N}$"
   ]
  },
  {
   "cell_type": "markdown",
   "metadata": {},
   "source": [
    "$dw(t_2)-dw(t_1)\\sim N[0,\\sigma^2(t_2-t_1)]$ is a Brownian motion process. "
   ]
  },
  {
   "cell_type": "markdown",
   "metadata": {},
   "source": [
    "$N,P$ vole, weasle abundance, respectively.\n",
    "$r,s$ intrinsic population growth rates.\n",
    "$K$ Carrying capacity of vules.\n",
    "$G$ Mortality inflicted of generalist hunters.\n"
   ]
  },
  {
   "cell_type": "markdown",
   "metadata": {},
   "source": [
    "Vole abundance via a proxy of trapped voles $Y$. Weasle abundance is hidden state. "
   ]
  },
  {
   "cell_type": "markdown",
   "metadata": {},
   "source": [
    "Due to the conditional dependencies between states at different time points, calculation of the likelihood of time series data is somewhat tedious, which illustrates the motivation to use ABC."
   ]
  },
  {
   "cell_type": "markdown",
   "metadata": {},
   "source": [
    "$Y_t \\sim Pois(\\Phi N_t)$"
   ]
  },
  {
   "cell_type": "markdown",
   "metadata": {},
   "source": [
    "How to fit the predator-prey model to vule data, if predator density is unknown?"
   ]
  },
  {
   "cell_type": "code",
   "execution_count": 2,
   "metadata": {},
   "outputs": [],
   "source": [
    "import numpy as np"
   ]
  },
  {
   "cell_type": "markdown",
   "metadata": {},
   "source": []
  }
 ],
 "metadata": {
  "kernelspec": {
   "display_name": "Python 3",
   "language": "python",
   "name": "python3"
  },
  "language_info": {
   "codemirror_mode": {
    "name": "ipython",
    "version": 3
   },
   "file_extension": ".py",
   "mimetype": "text/x-python",
   "name": "python",
   "nbconvert_exporter": "python",
   "pygments_lexer": "ipython3",
   "version": "3.7.3"
  }
 },
 "nbformat": 4,
 "nbformat_minor": 2
}
